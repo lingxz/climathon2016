{
 "cells": [
  {
   "cell_type": "code",
   "execution_count": 1,
   "metadata": {
    "collapsed": true
   },
   "outputs": [],
   "source": [
    "import pandas as pd\n",
    "import seaborn as sns\n",
    "\n",
    "%matplotlib inline\n",
    "import numpy as np\n",
    "import pandas as pd\n",
    "import xarray as xr\n",
    "from matplotlib import pyplot as plt"
   ]
  },
  {
   "cell_type": "code",
   "execution_count": 2,
   "metadata": {
    "collapsed": false
   },
   "outputs": [
    {
     "data": {
      "text/html": [
       "<div>\n",
       "<table border=\"1\" class=\"dataframe\">\n",
       "  <thead>\n",
       "    <tr style=\"text-align: right;\">\n",
       "      <th></th>\n",
       "      <th>0</th>\n",
       "      <th>1</th>\n",
       "      <th>2</th>\n",
       "      <th>3</th>\n",
       "      <th>4</th>\n",
       "    </tr>\n",
       "  </thead>\n",
       "  <tbody>\n",
       "    <tr>\n",
       "      <th>altitude</th>\n",
       "      <td>0</td>\n",
       "      <td>0</td>\n",
       "      <td>0</td>\n",
       "      <td>0</td>\n",
       "      <td>0</td>\n",
       "    </tr>\n",
       "    <tr>\n",
       "      <th>co_a</th>\n",
       "      <td>267.5</td>\n",
       "      <td>267.5</td>\n",
       "      <td>265.9</td>\n",
       "      <td>265.9</td>\n",
       "      <td>270.8</td>\n",
       "    </tr>\n",
       "    <tr>\n",
       "      <th>co_w</th>\n",
       "      <td>191.8</td>\n",
       "      <td>190.2</td>\n",
       "      <td>192.6</td>\n",
       "      <td>191.8</td>\n",
       "      <td>191</td>\n",
       "    </tr>\n",
       "    <tr>\n",
       "      <th>pt</th>\n",
       "      <td>0</td>\n",
       "      <td>0</td>\n",
       "      <td>0</td>\n",
       "      <td>0</td>\n",
       "      <td>0</td>\n",
       "    </tr>\n",
       "    <tr>\n",
       "      <th>gps_fix</th>\n",
       "      <td>0</td>\n",
       "      <td>0</td>\n",
       "      <td>0</td>\n",
       "      <td>0</td>\n",
       "      <td>0</td>\n",
       "    </tr>\n",
       "    <tr>\n",
       "      <th>heading</th>\n",
       "      <td>0</td>\n",
       "      <td>0</td>\n",
       "      <td>0</td>\n",
       "      <td>0</td>\n",
       "      <td>0</td>\n",
       "    </tr>\n",
       "    <tr>\n",
       "      <th>humidity</th>\n",
       "      <td>14.1</td>\n",
       "      <td>14.1</td>\n",
       "      <td>14.1</td>\n",
       "      <td>14.1</td>\n",
       "      <td>14.1</td>\n",
       "    </tr>\n",
       "    <tr>\n",
       "      <th>latitude</th>\n",
       "      <td>0</td>\n",
       "      <td>0</td>\n",
       "      <td>0</td>\n",
       "      <td>0</td>\n",
       "      <td>0</td>\n",
       "    </tr>\n",
       "    <tr>\n",
       "      <th>lonet_bat</th>\n",
       "      <td>0</td>\n",
       "      <td>0</td>\n",
       "      <td>0</td>\n",
       "      <td>0</td>\n",
       "      <td>0</td>\n",
       "    </tr>\n",
       "    <tr>\n",
       "      <th>longitude</th>\n",
       "      <td>0</td>\n",
       "      <td>0</td>\n",
       "      <td>0</td>\n",
       "      <td>0</td>\n",
       "      <td>0</td>\n",
       "    </tr>\n",
       "    <tr>\n",
       "      <th>no2_a</th>\n",
       "      <td>288.5</td>\n",
       "      <td>292.5</td>\n",
       "      <td>290.1</td>\n",
       "      <td>292.5</td>\n",
       "      <td>291.7</td>\n",
       "    </tr>\n",
       "    <tr>\n",
       "      <th>no2_w</th>\n",
       "      <td>258.7</td>\n",
       "      <td>261.1</td>\n",
       "      <td>258.7</td>\n",
       "      <td>258.7</td>\n",
       "      <td>257.9</td>\n",
       "    </tr>\n",
       "    <tr>\n",
       "      <th>pm1</th>\n",
       "      <td>17.939</td>\n",
       "      <td>18.133</td>\n",
       "      <td>17.677</td>\n",
       "      <td>17.862</td>\n",
       "      <td>17.538</td>\n",
       "    </tr>\n",
       "    <tr>\n",
       "      <th>pm10</th>\n",
       "      <td>22.25</td>\n",
       "      <td>22.238</td>\n",
       "      <td>21.848</td>\n",
       "      <td>21.989</td>\n",
       "      <td>21.614</td>\n",
       "    </tr>\n",
       "    <tr>\n",
       "      <th>pm2_5</th>\n",
       "      <td>22.126</td>\n",
       "      <td>22.146</td>\n",
       "      <td>21.753</td>\n",
       "      <td>21.902</td>\n",
       "      <td>21.52</td>\n",
       "    </tr>\n",
       "    <tr>\n",
       "      <th>w_pm1</th>\n",
       "      <td>8</td>\n",
       "      <td>7</td>\n",
       "      <td>8</td>\n",
       "      <td>6</td>\n",
       "      <td>7</td>\n",
       "    </tr>\n",
       "    <tr>\n",
       "      <th>w_pm10</th>\n",
       "      <td>12</td>\n",
       "      <td>11</td>\n",
       "      <td>12</td>\n",
       "      <td>10</td>\n",
       "      <td>11</td>\n",
       "    </tr>\n",
       "    <tr>\n",
       "      <th>w_pm2_5</th>\n",
       "      <td>11</td>\n",
       "      <td>10</td>\n",
       "      <td>11</td>\n",
       "      <td>9</td>\n",
       "      <td>10</td>\n",
       "    </tr>\n",
       "    <tr>\n",
       "      <th>sample_flow_rate</th>\n",
       "      <td>3.385</td>\n",
       "      <td>3.407</td>\n",
       "      <td>3.451</td>\n",
       "      <td>3.382</td>\n",
       "      <td>3.4</td>\n",
       "    </tr>\n",
       "    <tr>\n",
       "      <th>sampling_period</th>\n",
       "      <td>64.841</td>\n",
       "      <td>64.84</td>\n",
       "      <td>64.844</td>\n",
       "      <td>64.837</td>\n",
       "      <td>64.843</td>\n",
       "    </tr>\n",
       "    <tr>\n",
       "      <th>speed</th>\n",
       "      <td>0</td>\n",
       "      <td>0</td>\n",
       "      <td>0</td>\n",
       "      <td>0</td>\n",
       "      <td>0</td>\n",
       "    </tr>\n",
       "    <tr>\n",
       "      <th>temp</th>\n",
       "      <td>37.2</td>\n",
       "      <td>37.1</td>\n",
       "      <td>37.1</td>\n",
       "      <td>37</td>\n",
       "      <td>37</td>\n",
       "    </tr>\n",
       "    <tr>\n",
       "      <th>date</th>\n",
       "      <td>19800106070851</td>\n",
       "      <td>19800106070746</td>\n",
       "      <td>19800106070641</td>\n",
       "      <td>19800106070536</td>\n",
       "      <td>19800106070431</td>\n",
       "    </tr>\n",
       "    <tr>\n",
       "      <th>retries</th>\n",
       "      <td>0</td>\n",
       "      <td>0</td>\n",
       "      <td>0</td>\n",
       "      <td>0</td>\n",
       "      <td>0</td>\n",
       "    </tr>\n",
       "    <tr>\n",
       "      <th>last_organicity_sync</th>\n",
       "      <td>NaN</td>\n",
       "      <td>NaN</td>\n",
       "      <td>NaN</td>\n",
       "      <td>NaN</td>\n",
       "      <td>NaN</td>\n",
       "    </tr>\n",
       "    <tr>\n",
       "      <th>timestamp</th>\n",
       "      <td>2017-02-10 04:09:55.767816+00</td>\n",
       "      <td>2017-02-10 04:08:49.810157+00</td>\n",
       "      <td>2017-02-10 04:07:44.866361+00</td>\n",
       "      <td>2017-02-10 04:06:39.772427+00</td>\n",
       "      <td>2017-02-10 04:05:34.774978+00</td>\n",
       "    </tr>\n",
       "    <tr>\n",
       "      <th>id</th>\n",
       "      <td>24</td>\n",
       "      <td>24</td>\n",
       "      <td>24</td>\n",
       "      <td>24</td>\n",
       "      <td>24</td>\n",
       "    </tr>\n",
       "    <tr>\n",
       "      <th>m_co</th>\n",
       "      <td>479.487</td>\n",
       "      <td>477.875</td>\n",
       "      <td>480.293</td>\n",
       "      <td>480.293</td>\n",
       "      <td>480.293</td>\n",
       "    </tr>\n",
       "    <tr>\n",
       "      <th>m_no2</th>\n",
       "      <td>481.099</td>\n",
       "      <td>479.487</td>\n",
       "      <td>481.905</td>\n",
       "      <td>481.905</td>\n",
       "      <td>479.487</td>\n",
       "    </tr>\n",
       "  </tbody>\n",
       "</table>\n",
       "</div>"
      ],
      "text/plain": [
       "                                                  0  \\\n",
       "altitude                                          0   \n",
       "co_a                                          267.5   \n",
       "co_w                                          191.8   \n",
       "pt                                                0   \n",
       "gps_fix                                           0   \n",
       "heading                                           0   \n",
       "humidity                                       14.1   \n",
       "latitude                                          0   \n",
       "lonet_bat                                         0   \n",
       "longitude                                         0   \n",
       "no2_a                                         288.5   \n",
       "no2_w                                         258.7   \n",
       "pm1                                          17.939   \n",
       "pm10                                          22.25   \n",
       "pm2_5                                        22.126   \n",
       "w_pm1                                             8   \n",
       "w_pm10                                           12   \n",
       "w_pm2_5                                          11   \n",
       "sample_flow_rate                              3.385   \n",
       "sampling_period                              64.841   \n",
       "speed                                             0   \n",
       "temp                                           37.2   \n",
       "date                                 19800106070851   \n",
       "retries                                           0   \n",
       "last_organicity_sync                            NaN   \n",
       "timestamp             2017-02-10 04:09:55.767816+00   \n",
       "id                                               24   \n",
       "m_co                                        479.487   \n",
       "m_no2                                       481.099   \n",
       "\n",
       "                                                  1  \\\n",
       "altitude                                          0   \n",
       "co_a                                          267.5   \n",
       "co_w                                          190.2   \n",
       "pt                                                0   \n",
       "gps_fix                                           0   \n",
       "heading                                           0   \n",
       "humidity                                       14.1   \n",
       "latitude                                          0   \n",
       "lonet_bat                                         0   \n",
       "longitude                                         0   \n",
       "no2_a                                         292.5   \n",
       "no2_w                                         261.1   \n",
       "pm1                                          18.133   \n",
       "pm10                                         22.238   \n",
       "pm2_5                                        22.146   \n",
       "w_pm1                                             7   \n",
       "w_pm10                                           11   \n",
       "w_pm2_5                                          10   \n",
       "sample_flow_rate                              3.407   \n",
       "sampling_period                               64.84   \n",
       "speed                                             0   \n",
       "temp                                           37.1   \n",
       "date                                 19800106070746   \n",
       "retries                                           0   \n",
       "last_organicity_sync                            NaN   \n",
       "timestamp             2017-02-10 04:08:49.810157+00   \n",
       "id                                               24   \n",
       "m_co                                        477.875   \n",
       "m_no2                                       479.487   \n",
       "\n",
       "                                                  2  \\\n",
       "altitude                                          0   \n",
       "co_a                                          265.9   \n",
       "co_w                                          192.6   \n",
       "pt                                                0   \n",
       "gps_fix                                           0   \n",
       "heading                                           0   \n",
       "humidity                                       14.1   \n",
       "latitude                                          0   \n",
       "lonet_bat                                         0   \n",
       "longitude                                         0   \n",
       "no2_a                                         290.1   \n",
       "no2_w                                         258.7   \n",
       "pm1                                          17.677   \n",
       "pm10                                         21.848   \n",
       "pm2_5                                        21.753   \n",
       "w_pm1                                             8   \n",
       "w_pm10                                           12   \n",
       "w_pm2_5                                          11   \n",
       "sample_flow_rate                              3.451   \n",
       "sampling_period                              64.844   \n",
       "speed                                             0   \n",
       "temp                                           37.1   \n",
       "date                                 19800106070641   \n",
       "retries                                           0   \n",
       "last_organicity_sync                            NaN   \n",
       "timestamp             2017-02-10 04:07:44.866361+00   \n",
       "id                                               24   \n",
       "m_co                                        480.293   \n",
       "m_no2                                       481.905   \n",
       "\n",
       "                                                  3  \\\n",
       "altitude                                          0   \n",
       "co_a                                          265.9   \n",
       "co_w                                          191.8   \n",
       "pt                                                0   \n",
       "gps_fix                                           0   \n",
       "heading                                           0   \n",
       "humidity                                       14.1   \n",
       "latitude                                          0   \n",
       "lonet_bat                                         0   \n",
       "longitude                                         0   \n",
       "no2_a                                         292.5   \n",
       "no2_w                                         258.7   \n",
       "pm1                                          17.862   \n",
       "pm10                                         21.989   \n",
       "pm2_5                                        21.902   \n",
       "w_pm1                                             6   \n",
       "w_pm10                                           10   \n",
       "w_pm2_5                                           9   \n",
       "sample_flow_rate                              3.382   \n",
       "sampling_period                              64.837   \n",
       "speed                                             0   \n",
       "temp                                             37   \n",
       "date                                 19800106070536   \n",
       "retries                                           0   \n",
       "last_organicity_sync                            NaN   \n",
       "timestamp             2017-02-10 04:06:39.772427+00   \n",
       "id                                               24   \n",
       "m_co                                        480.293   \n",
       "m_no2                                       481.905   \n",
       "\n",
       "                                                  4  \n",
       "altitude                                          0  \n",
       "co_a                                          270.8  \n",
       "co_w                                            191  \n",
       "pt                                                0  \n",
       "gps_fix                                           0  \n",
       "heading                                           0  \n",
       "humidity                                       14.1  \n",
       "latitude                                          0  \n",
       "lonet_bat                                         0  \n",
       "longitude                                         0  \n",
       "no2_a                                         291.7  \n",
       "no2_w                                         257.9  \n",
       "pm1                                          17.538  \n",
       "pm10                                         21.614  \n",
       "pm2_5                                         21.52  \n",
       "w_pm1                                             7  \n",
       "w_pm10                                           11  \n",
       "w_pm2_5                                          10  \n",
       "sample_flow_rate                                3.4  \n",
       "sampling_period                              64.843  \n",
       "speed                                             0  \n",
       "temp                                             37  \n",
       "date                                 19800106070431  \n",
       "retries                                           0  \n",
       "last_organicity_sync                            NaN  \n",
       "timestamp             2017-02-10 04:05:34.774978+00  \n",
       "id                                               24  \n",
       "m_co                                        480.293  \n",
       "m_no2                                       479.487  "
      ]
     },
     "execution_count": 2,
     "metadata": {},
     "output_type": "execute_result"
    }
   ],
   "source": [
    "df = pd.read_csv('gnewt_morning_10feb.csv', delimiter=';')\n",
    "df.head().T"
   ]
  },
  {
   "cell_type": "markdown",
   "metadata": {},
   "source": [
    "# NO2"
   ]
  },
  {
   "cell_type": "code",
   "execution_count": 3,
   "metadata": {
    "collapsed": false
   },
   "outputs": [
    {
     "data": {
      "text/plain": [
       "count    2091.000000\n",
       "mean      351.352415\n",
       "std       288.682616\n",
       "min       100.000000\n",
       "25%       286.100000\n",
       "50%       305.400000\n",
       "75%       328.000000\n",
       "max      3300.000000\n",
       "Name: no2_a, dtype: float64"
      ]
     },
     "execution_count": 3,
     "metadata": {},
     "output_type": "execute_result"
    }
   ],
   "source": [
    "df.no2_a.describe()"
   ]
  },
  {
   "cell_type": "code",
   "execution_count": 4,
   "metadata": {
    "collapsed": false
   },
   "outputs": [
    {
     "data": {
      "text/plain": [
       "<matplotlib.axes._subplots.AxesSubplot at 0x222673af390>"
      ]
     },
     "execution_count": 4,
     "metadata": {},
     "output_type": "execute_result"
    },
    {
     "data": {
      "image/png": "[encoded data removed]",
      "text/plain": [
       "<matplotlib.figure.Figure at 0x22267381b38>"
      ]
     },
     "metadata": {},
     "output_type": "display_data"
    }
   ],
   "source": [
    "df.timestamp = pd.to_datetime(df.timestamp)\n",
    "df = df.sort_values(by='timestamp')\n",
    "# there is one on 2 jan, whereas the rest is on 8 feb\n",
    "df.tail(-1).set_index('timestamp').no2_a.plot(style='o')"
   ]
  },
  {
   "cell_type": "markdown",
   "metadata": {},
   "source": [
    "## One hour averages"
   ]
  },
  {
   "cell_type": "code",
   "execution_count": 5,
   "metadata": {
    "collapsed": false
   },
   "outputs": [
    {
     "data": {
      "text/plain": [
       "<matplotlib.axes._subplots.AxesSubplot at 0x2226793b7f0>"
      ]
     },
     "execution_count": 5,
     "metadata": {},
     "output_type": "execute_result"
    },
    {
     "data": {
      "image/png": "[encoded data removed]",
      "text/plain": [
       "<matplotlib.figure.Figure at 0x22267381a20>"
      ]
     },
     "metadata": {},
     "output_type": "display_data"
    }
   ],
   "source": [
    "df = df.tail(-1)\n",
    "ds = xr.Dataset.from_dataframe(df.set_index('timestamp', 'id'))\n",
    "ds_mean_1h = ds.resample(freq='1H', dim='timestamp', how='mean', skipna=True)\n",
    "df.set_index('timestamp').no2_a.plot(linestyle='none', marker='o')"
   ]
  },
  {
   "cell_type": "code",
   "execution_count": 6,
   "metadata": {
    "collapsed": false
   },
   "outputs": [
    {
     "data": {
      "text/plain": [
       "array([11, 29, 24, 25, 26], dtype=int64)"
      ]
     },
     "execution_count": 6,
     "metadata": {},
     "output_type": "execute_result"
    }
   ],
   "source": [
    "df.id.unique()"
   ]
  },
  {
   "cell_type": "code",
   "execution_count": 7,
   "metadata": {
    "collapsed": false
   },
   "outputs": [
    {
     "data": {
      "text/html": [
       "<div>\n",
       "<table border=\"1\" class=\"dataframe\">\n",
       "  <thead>\n",
       "    <tr style=\"text-align: right;\">\n",
       "      <th></th>\n",
       "      <th>11</th>\n",
       "      <th>29</th>\n",
       "      <th>24</th>\n",
       "      <th>25</th>\n",
       "      <th>26</th>\n",
       "    </tr>\n",
       "  </thead>\n",
       "  <tbody>\n",
       "    <tr>\n",
       "      <th>count</th>\n",
       "      <td>1343.000000</td>\n",
       "      <td>18.000000</td>\n",
       "      <td>397.000000</td>\n",
       "      <td>202.000000</td>\n",
       "      <td>130.000000</td>\n",
       "    </tr>\n",
       "    <tr>\n",
       "      <th>mean</th>\n",
       "      <td>364.647878</td>\n",
       "      <td>293.788889</td>\n",
       "      <td>317.170529</td>\n",
       "      <td>343.196040</td>\n",
       "      <td>340.963846</td>\n",
       "    </tr>\n",
       "    <tr>\n",
       "      <th>std</th>\n",
       "      <td>330.838987</td>\n",
       "      <td>4.719532</td>\n",
       "      <td>161.362866</td>\n",
       "      <td>217.104289</td>\n",
       "      <td>227.062301</td>\n",
       "    </tr>\n",
       "    <tr>\n",
       "      <th>min</th>\n",
       "      <td>255.500000</td>\n",
       "      <td>286.100000</td>\n",
       "      <td>281.200000</td>\n",
       "      <td>286.100000</td>\n",
       "      <td>282.900000</td>\n",
       "    </tr>\n",
       "    <tr>\n",
       "      <th>25%</th>\n",
       "      <td>277.200000</td>\n",
       "      <td>289.500000</td>\n",
       "      <td>288.500000</td>\n",
       "      <td>299.800000</td>\n",
       "      <td>292.700000</td>\n",
       "    </tr>\n",
       "    <tr>\n",
       "      <th>50%</th>\n",
       "      <td>307.800000</td>\n",
       "      <td>293.700000</td>\n",
       "      <td>292.500000</td>\n",
       "      <td>321.100000</td>\n",
       "      <td>298.600000</td>\n",
       "    </tr>\n",
       "    <tr>\n",
       "      <th>75%</th>\n",
       "      <td>332.000000</td>\n",
       "      <td>298.400000</td>\n",
       "      <td>310.300000</td>\n",
       "      <td>336.800000</td>\n",
       "      <td>312.700000</td>\n",
       "    </tr>\n",
       "    <tr>\n",
       "      <th>max</th>\n",
       "      <td>3300.000000</td>\n",
       "      <td>299.800000</td>\n",
       "      <td>3300.000000</td>\n",
       "      <td>3300.000000</td>\n",
       "      <td>2719.000000</td>\n",
       "    </tr>\n",
       "  </tbody>\n",
       "</table>\n",
       "</div>"
      ],
      "text/plain": [
       "                11          29           24           25           26\n",
       "count  1343.000000   18.000000   397.000000   202.000000   130.000000\n",
       "mean    364.647878  293.788889   317.170529   343.196040   340.963846\n",
       "std     330.838987    4.719532   161.362866   217.104289   227.062301\n",
       "min     255.500000  286.100000   281.200000   286.100000   282.900000\n",
       "25%     277.200000  289.500000   288.500000   299.800000   292.700000\n",
       "50%     307.800000  293.700000   292.500000   321.100000   298.600000\n",
       "75%     332.000000  298.400000   310.300000   336.800000   312.700000\n",
       "max    3300.000000  299.800000  3300.000000  3300.000000  2719.000000"
      ]
     },
     "execution_count": 7,
     "metadata": {},
     "output_type": "execute_result"
    }
   ],
   "source": [
    "stationary_df = ds.to_dataframe()\n",
    "# alphasense no2 readings\n",
    "describe_a_df = pd.DataFrame()\n",
    "for car_id in df.id.unique():\n",
    "    describe_a_df[car_id] = stationary_df[stationary_df['id'] == car_id].no2_a.describe()\n",
    "describe_a_df"
   ]
  },
  {
   "cell_type": "code",
   "execution_count": 8,
   "metadata": {
    "collapsed": false
   },
   "outputs": [
    {
     "data": {
      "text/html": [
       "<div>\n",
       "<table border=\"1\" class=\"dataframe\">\n",
       "  <thead>\n",
       "    <tr style=\"text-align: right;\">\n",
       "      <th></th>\n",
       "      <th>11</th>\n",
       "      <th>29</th>\n",
       "      <th>24</th>\n",
       "      <th>25</th>\n",
       "      <th>26</th>\n",
       "    </tr>\n",
       "  </thead>\n",
       "  <tbody>\n",
       "    <tr>\n",
       "      <th>count</th>\n",
       "      <td>142.000000</td>\n",
       "      <td>0.0</td>\n",
       "      <td>397.000000</td>\n",
       "      <td>202.000000</td>\n",
       "      <td>130.000000</td>\n",
       "    </tr>\n",
       "    <tr>\n",
       "      <th>mean</th>\n",
       "      <td>225.011103</td>\n",
       "      <td>NaN</td>\n",
       "      <td>571.399994</td>\n",
       "      <td>507.548711</td>\n",
       "      <td>693.412266</td>\n",
       "    </tr>\n",
       "    <tr>\n",
       "      <th>std</th>\n",
       "      <td>226.622593</td>\n",
       "      <td>NaN</td>\n",
       "      <td>79.343490</td>\n",
       "      <td>95.677028</td>\n",
       "      <td>153.343382</td>\n",
       "    </tr>\n",
       "    <tr>\n",
       "      <th>min</th>\n",
       "      <td>0.000000</td>\n",
       "      <td>NaN</td>\n",
       "      <td>478.681340</td>\n",
       "      <td>413.406620</td>\n",
       "      <td>567.326050</td>\n",
       "    </tr>\n",
       "    <tr>\n",
       "      <th>25%</th>\n",
       "      <td>0.000000</td>\n",
       "      <td>NaN</td>\n",
       "      <td>510.109890</td>\n",
       "      <td>453.901118</td>\n",
       "      <td>595.128220</td>\n",
       "    </tr>\n",
       "    <tr>\n",
       "      <th>50%</th>\n",
       "      <td>194.615400</td>\n",
       "      <td>NaN</td>\n",
       "      <td>567.326050</td>\n",
       "      <td>491.978040</td>\n",
       "      <td>640.659420</td>\n",
       "    </tr>\n",
       "    <tr>\n",
       "      <th>75%</th>\n",
       "      <td>448.864500</td>\n",
       "      <td>NaN</td>\n",
       "      <td>608.424930</td>\n",
       "      <td>536.300385</td>\n",
       "      <td>731.721667</td>\n",
       "    </tr>\n",
       "    <tr>\n",
       "      <th>max</th>\n",
       "      <td>530.256410</td>\n",
       "      <td>NaN</td>\n",
       "      <td>1396.556880</td>\n",
       "      <td>1317.582520</td>\n",
       "      <td>1477.142940</td>\n",
       "    </tr>\n",
       "  </tbody>\n",
       "</table>\n",
       "</div>"
      ],
      "text/plain": [
       "               11   29           24           25           26\n",
       "count  142.000000  0.0   397.000000   202.000000   130.000000\n",
       "mean   225.011103  NaN   571.399994   507.548711   693.412266\n",
       "std    226.622593  NaN    79.343490    95.677028   153.343382\n",
       "min      0.000000  NaN   478.681340   413.406620   567.326050\n",
       "25%      0.000000  NaN   510.109890   453.901118   595.128220\n",
       "50%    194.615400  NaN   567.326050   491.978040   640.659420\n",
       "75%    448.864500  NaN   608.424930   536.300385   731.721667\n",
       "max    530.256410  NaN  1396.556880  1317.582520  1477.142940"
      ]
     },
     "execution_count": 8,
     "metadata": {},
     "output_type": "execute_result"
    }
   ],
   "source": [
    "# mics no2 readings\n",
    "describe_m_df = pd.DataFrame()\n",
    "for car_id in df.id.unique():\n",
    "    describe_m_df[car_id] = stationary_df[stationary_df['id'] == car_id].m_no2.describe()\n",
    "describe_m_df"
   ]
  },
  {
   "cell_type": "code",
   "execution_count": 9,
   "metadata": {
    "collapsed": false
   },
   "outputs": [
    {
     "data": {
      "text/html": [
       "<div>\n",
       "<table border=\"1\" class=\"dataframe\">\n",
       "  <thead>\n",
       "    <tr style=\"text-align: right;\">\n",
       "      <th></th>\n",
       "      <th>11</th>\n",
       "      <th>29</th>\n",
       "      <th>24</th>\n",
       "      <th>25</th>\n",
       "      <th>26</th>\n",
       "    </tr>\n",
       "  </thead>\n",
       "  <tbody>\n",
       "    <tr>\n",
       "      <th>count</th>\n",
       "      <td>1343.000000</td>\n",
       "      <td>18.000000</td>\n",
       "      <td>397.000000</td>\n",
       "      <td>202.000000</td>\n",
       "      <td>130.000000</td>\n",
       "    </tr>\n",
       "    <tr>\n",
       "      <th>mean</th>\n",
       "      <td>335.318838</td>\n",
       "      <td>275.200000</td>\n",
       "      <td>264.294962</td>\n",
       "      <td>267.644059</td>\n",
       "      <td>2383.671538</td>\n",
       "    </tr>\n",
       "    <tr>\n",
       "      <th>std</th>\n",
       "      <td>386.304209</td>\n",
       "      <td>3.107486</td>\n",
       "      <td>3.065295</td>\n",
       "      <td>2.889884</td>\n",
       "      <td>4.708153</td>\n",
       "    </tr>\n",
       "    <tr>\n",
       "      <th>min</th>\n",
       "      <td>41.900000</td>\n",
       "      <td>272.400000</td>\n",
       "      <td>257.900000</td>\n",
       "      <td>259.500000</td>\n",
       "      <td>2376.500000</td>\n",
       "    </tr>\n",
       "    <tr>\n",
       "      <th>25%</th>\n",
       "      <td>259.500000</td>\n",
       "      <td>272.400000</td>\n",
       "      <td>261.900000</td>\n",
       "      <td>265.900000</td>\n",
       "      <td>2378.900000</td>\n",
       "    </tr>\n",
       "    <tr>\n",
       "      <th>50%</th>\n",
       "      <td>262.700000</td>\n",
       "      <td>274.800000</td>\n",
       "      <td>264.300000</td>\n",
       "      <td>267.500000</td>\n",
       "      <td>2383.700000</td>\n",
       "    </tr>\n",
       "    <tr>\n",
       "      <th>75%</th>\n",
       "      <td>266.700000</td>\n",
       "      <td>278.600000</td>\n",
       "      <td>266.700000</td>\n",
       "      <td>270.000000</td>\n",
       "      <td>2387.000000</td>\n",
       "    </tr>\n",
       "    <tr>\n",
       "      <th>max</th>\n",
       "      <td>2445.000000</td>\n",
       "      <td>280.400000</td>\n",
       "      <td>270.000000</td>\n",
       "      <td>272.400000</td>\n",
       "      <td>2413.600000</td>\n",
       "    </tr>\n",
       "  </tbody>\n",
       "</table>\n",
       "</div>"
      ],
      "text/plain": [
       "                11          29          24          25           26\n",
       "count  1343.000000   18.000000  397.000000  202.000000   130.000000\n",
       "mean    335.318838  275.200000  264.294962  267.644059  2383.671538\n",
       "std     386.304209    3.107486    3.065295    2.889884     4.708153\n",
       "min      41.900000  272.400000  257.900000  259.500000  2376.500000\n",
       "25%     259.500000  272.400000  261.900000  265.900000  2378.900000\n",
       "50%     262.700000  274.800000  264.300000  267.500000  2383.700000\n",
       "75%     266.700000  278.600000  266.700000  270.000000  2387.000000\n",
       "max    2445.000000  280.400000  270.000000  272.400000  2413.600000"
      ]
     },
     "execution_count": 9,
     "metadata": {},
     "output_type": "execute_result"
    }
   ],
   "source": [
    "# winsen no2 readings\n",
    "describe_w_df = pd.DataFrame()\n",
    "for car_id in df.id.unique():\n",
    "    describe_w_df[car_id] = stationary_df[stationary_df['id'] == car_id].no2_w.describe()\n",
    "describe_w_df"
   ]
  },
  {
   "cell_type": "markdown",
   "metadata": {},
   "source": [
    "There seems to be a spike for Winsen data for vehicle 26: it's unusually high, maybe another bug? Also, from the max values, the spikes are only in vehicle 11 and 26, especially in vehicle 26. It doesn't seem to be a problem with the vehicle, since alphasense doesn't seem to show a consistently high value for vehicle 26. Maybe we can filter the spikes out... "
   ]
  },
  {
   "cell_type": "code",
   "execution_count": 10,
   "metadata": {
    "collapsed": false
   },
   "outputs": [
    {
     "data": {
      "text/plain": [
       "<matplotlib.axes._subplots.AxesSubplot at 0x22267916828>"
      ]
     },
     "execution_count": 10,
     "metadata": {},
     "output_type": "execute_result"
    },
    {
     "data": {
      "image/png": "[encoded data removed]",
      "text/plain": [
       "<matplotlib.figure.Figure at 0x222678d09e8>"
      ]
     },
     "metadata": {},
     "output_type": "display_data"
    }
   ],
   "source": [
    "stationary_df.no2_w.plot(style='o')"
   ]
  },
  {
   "cell_type": "code",
   "execution_count": 11,
   "metadata": {
    "collapsed": false
   },
   "outputs": [
    {
     "data": {
      "text/plain": [
       "<matplotlib.axes._subplots.AxesSubplot at 0x22267a5c240>"
      ]
     },
     "execution_count": 11,
     "metadata": {},
     "output_type": "execute_result"
    },
    {
     "data": {
      "image/png": "[encoded data removed]",
      "text/plain": [
       "<matplotlib.figure.Figure at 0x222679ae0b8>"
      ]
     },
     "metadata": {},
     "output_type": "display_data"
    },
    {
     "data": {
      "image/png": "[encoded data removed]",
      "text/plain": [
       "<matplotlib.figure.Figure at 0x2226798f710>"
      ]
     },
     "metadata": {},
     "output_type": "display_data"
    }
   ],
   "source": [
    "# winsen no2 plot for 11 and 26\n",
    "stationary_df[stationary_df.id == 11].no2_w.plot()\n",
    "plt.figure()\n",
    "stationary_df[stationary_df.id == 26].no2_w.plot()"
   ]
  }
 ],
 "metadata": {
  "anaconda-cloud": {},
  "kernelspec": {
   "display_name": "Python [conda env:complexity-project]",
   "language": "python",
   "name": "conda-env-complexity-project-py"
  },
  "language_info": {
   "codemirror_mode": {
    "name": "ipython",
    "version": 3
   },
   "file_extension": ".py",
   "mimetype": "text/x-python",
   "name": "python",
   "nbconvert_exporter": "python",
   "pygments_lexer": "ipython3",
   "version": "3.5.2"
  },
  "toc": {
   "colors": {
    "hover_highlight": "#DAA520",
    "running_highlight": "#FF0000",
    "selected_highlight": "#FFD700"
   },
   "moveMenuLeft": true,
   "nav_menu": {
    "height": "48px",
    "width": "252px"
   },
   "navigate_menu": true,
   "number_sections": true,
   "sideBar": true,
   "threshold": 4,
   "toc_cell": false,
   "toc_section_display": "block",
   "toc_window_display": true
  }
 },
 "nbformat": 4,
 "nbformat_minor": 2
}
